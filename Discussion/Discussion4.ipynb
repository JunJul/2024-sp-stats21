{
 "cells": [
  {
   "cell_type": "code",
   "execution_count": 3,
   "id": "7e38f9cc-5484-4058-a601-13e8ede98a33",
   "metadata": {},
   "outputs": [
    {
     "name": "stdout",
     "output_type": "stream",
     "text": [
      "[0, 1, 2, 3, 4]\n",
      "ed\n",
      "ad\n"
     ]
    }
   ],
   "source": [
    "a = list(range(5))\n",
    "print(a)\n",
    "a[1:3]\n",
    "print(\"abcde\"[4:2:-1])\n",
    "print(\"abcdefghi\"[:5:3])"
   ]
  },
  {
   "cell_type": "code",
   "execution_count": 20,
   "id": "b97d5b13-1719-48d1-86f7-125054c43aad",
   "metadata": {},
   "outputs": [
    {
     "name": "stdout",
     "output_type": "stream",
     "text": [
      "(4, 3, 2, 1, 0)\n"
     ]
    }
   ],
   "source": [
    "tuple(a)[::-1]\n",
    "print(tuple(a)[4::-1])"
   ]
  },
  {
   "cell_type": "code",
   "execution_count": 22,
   "id": "390fba00-9df7-4023-ba6f-f66c86d16a41",
   "metadata": {},
   "outputs": [
    {
     "data": {
      "text/plain": [
       "[1, 3]"
      ]
     },
     "execution_count": 22,
     "metadata": {},
     "output_type": "execute_result"
    }
   ],
   "source": [
    "b = [1, -2, 3]\n",
    "b.pop(-2)\n",
    "b"
   ]
  },
  {
   "cell_type": "code",
   "execution_count": 24,
   "id": "e7475146-8068-41a4-be73-5635fcf6ecf1",
   "metadata": {},
   "outputs": [
    {
     "data": {
      "text/plain": [
       "{'b': 2, 'c': 3}"
      ]
     },
     "execution_count": 24,
     "metadata": {},
     "output_type": "execute_result"
    }
   ],
   "source": [
    "d = {\"a\": 1, \"b\": 2, \"c\": 3}\n",
    "d.pop(\"a\")\n",
    "d"
   ]
  },
  {
   "cell_type": "code",
   "execution_count": 28,
   "id": "eaf5f4c7-6c0b-4024-8866-0c3d0aa2de33",
   "metadata": {},
   "outputs": [
    {
     "name": "stdout",
     "output_type": "stream",
     "text": [
      "3\n",
      "2\n"
     ]
    }
   ],
   "source": [
    "print(a.index(3))\n",
    "t = tuple(a)\n",
    "print(t.index(2))"
   ]
  },
  {
   "cell_type": "code",
   "execution_count": 30,
   "id": "889119f5-b00c-4585-b972-486fba3f5a6f",
   "metadata": {},
   "outputs": [
    {
     "data": {
      "text/plain": [
       "True"
      ]
     },
     "execution_count": 30,
     "metadata": {},
     "output_type": "execute_result"
    }
   ],
   "source": [
    "\"abcdfydb\".startswith(\"ab\")"
   ]
  },
  {
   "cell_type": "code",
   "execution_count": 32,
   "id": "710b2baf-915e-454f-a3a2-b0c2d02d9197",
   "metadata": {},
   "outputs": [
    {
     "name": "stdout",
     "output_type": "stream",
     "text": [
      "True\n"
     ]
    },
    {
     "data": {
      "text/plain": [
       "False"
      ]
     },
     "execution_count": 32,
     "metadata": {},
     "output_type": "execute_result"
    }
   ],
   "source": [
    "print(hash(\"abc\") == hash(\"abc\"))\n",
    "hash(\"ab\") == hash(\"abd\")"
   ]
  },
  {
   "cell_type": "code",
   "execution_count": 45,
   "id": "565aea35-c909-4080-89fa-4b15b4b89b4e",
   "metadata": {},
   "outputs": [
    {
     "name": "stdout",
     "output_type": "stream",
     "text": [
      "True\n",
      "False\n"
     ]
    },
    {
     "data": {
      "text/plain": [
       "True"
      ]
     },
     "execution_count": 45,
     "metadata": {},
     "output_type": "execute_result"
    }
   ],
   "source": [
    "def duplicates(l):\n",
    " return len([i for i in l if l.count(i) > 1]) > 0\n",
    "\n",
    "print(duplicates([1, 2, 3, 1]))\n",
    "print(duplicates([1, 2, 3, 4]))\n",
    "duplicates([1, 1, 1, 3, 3, 4, 5, 2, 4, 2])"
   ]
  },
  {
   "cell_type": "code",
   "execution_count": 42,
   "id": "f9431bcd-78d1-43e5-baaf-98114660d667",
   "metadata": {},
   "outputs": [
    {
     "data": {
      "text/plain": [
       "True"
      ]
     },
     "execution_count": 42,
     "metadata": {},
     "output_type": "execute_result"
    }
   ],
   "source": [
    "len(set([1, 2, 3, 1])) < len([1, 2, 3, 1])"
   ]
  },
  {
   "cell_type": "code",
   "execution_count": null,
   "id": "77037b0c-0433-4ee3-bea6-e6fb57e124d5",
   "metadata": {},
   "outputs": [],
   "source": []
  }
 ],
 "metadata": {
  "kernelspec": {
   "display_name": "Python 3 (ipykernel)",
   "language": "python",
   "name": "python3"
  },
  "language_info": {
   "codemirror_mode": {
    "name": "ipython",
    "version": 3
   },
   "file_extension": ".py",
   "mimetype": "text/x-python",
   "name": "python",
   "nbconvert_exporter": "python",
   "pygments_lexer": "ipython3",
   "version": "3.11.7"
  }
 },
 "nbformat": 4,
 "nbformat_minor": 5
}
