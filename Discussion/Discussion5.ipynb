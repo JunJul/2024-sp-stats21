{
 "cells": [
  {
   "cell_type": "code",
   "execution_count": 6,
   "id": "eaf175df-7661-4972-87d3-2bce891ede48",
   "metadata": {},
   "outputs": [],
   "source": [
    "x = [1, 2, 3]\n",
    "y = [9, 7, 5]\n",
    "\n",
    "x + y\n",
    "\n",
    "## Perform x[i] + y[i] for all i in x, where len(x) == len(y)\n",
    "\n",
    "def add_numbers_in_two_lists(x, y):\n",
    "    if(len(x) != len(y)):\n",
    "        raise ValueError(\"Expect len(x) == len(y)\")\n",
    "    n = len(x)\n",
    "    out = []\n",
    "    # out = [None]*n\n",
    "    for i in range(n):\n",
    "        out.append(x[i] + y[i])\n",
    "    return out"
   ]
  },
  {
   "cell_type": "code",
   "execution_count": 5,
   "id": "c2d8a21d-f13a-4f82-a1c9-f636dcdb0c1e",
   "metadata": {},
   "outputs": [
    {
     "data": {
      "text/plain": [
       "[10, 9, 8]"
      ]
     },
     "execution_count": 5,
     "metadata": {},
     "output_type": "execute_result"
    }
   ],
   "source": [
    "add_numbers_in_two_lists(x, y)"
   ]
  },
  {
   "cell_type": "code",
   "execution_count": 9,
   "id": "5ba4e059-7c65-48fb-8bf6-7e4fdd026d88",
   "metadata": {},
   "outputs": [],
   "source": [
    "import numpy as np"
   ]
  },
  {
   "cell_type": "code",
   "execution_count": 11,
   "id": "063c7f92-e5d2-4737-b763-425d44fa451a",
   "metadata": {},
   "outputs": [
    {
     "data": {
      "text/plain": [
       "array([10,  9,  8])"
      ]
     },
     "execution_count": 11,
     "metadata": {},
     "output_type": "execute_result"
    }
   ],
   "source": [
    "xn = np.array([1,2,3])\n",
    "yn = np.array(y)\n",
    "\n",
    "xn + yn"
   ]
  },
  {
   "cell_type": "code",
   "execution_count": 12,
   "id": "f4e2dad0-ad68-4c6a-abbf-d9fb8c671415",
   "metadata": {},
   "outputs": [],
   "source": [
    "np.random.seed(1)"
   ]
  },
  {
   "cell_type": "code",
   "execution_count": 17,
   "id": "d77daf91-889f-4250-8819-2d43865cbaa5",
   "metadata": {},
   "outputs": [
    {
     "data": {
      "text/plain": [
       "72"
      ]
     },
     "execution_count": 17,
     "metadata": {},
     "output_type": "execute_result"
    }
   ],
   "source": [
    "np.random.randint(100)"
   ]
  },
  {
   "cell_type": "code",
   "execution_count": 19,
   "id": "2a3a936c-fa18-47bb-89e0-2484b67300a0",
   "metadata": {},
   "outputs": [
    {
     "data": {
      "text/plain": [
       "3"
      ]
     },
     "execution_count": 19,
     "metadata": {},
     "output_type": "execute_result"
    }
   ],
   "source": [
    "x = np.zeros([3, 5, 7])\n",
    "x.ndim"
   ]
  },
  {
   "cell_type": "code",
   "execution_count": 20,
   "id": "5f7880b5-d88d-42ac-82b0-bd8a7f8b82aa",
   "metadata": {},
   "outputs": [
    {
     "data": {
      "text/plain": [
       "array([[[0., 0., 0., 0., 0., 0., 0.],\n",
       "        [0., 0., 0., 0., 0., 0., 0.],\n",
       "        [0., 0., 0., 0., 0., 0., 0.],\n",
       "        [0., 0., 0., 0., 0., 0., 0.],\n",
       "        [0., 0., 0., 0., 0., 0., 0.]],\n",
       "\n",
       "       [[0., 0., 0., 0., 0., 0., 0.],\n",
       "        [0., 0., 0., 0., 0., 0., 0.],\n",
       "        [0., 0., 0., 0., 0., 0., 0.],\n",
       "        [0., 0., 0., 0., 0., 0., 0.],\n",
       "        [0., 0., 0., 0., 0., 0., 0.]],\n",
       "\n",
       "       [[0., 0., 0., 0., 0., 0., 0.],\n",
       "        [0., 0., 0., 0., 0., 0., 0.],\n",
       "        [0., 0., 0., 0., 0., 0., 0.],\n",
       "        [0., 0., 0., 0., 0., 0., 0.],\n",
       "        [0., 0., 0., 0., 0., 0., 0.]]])"
      ]
     },
     "execution_count": 20,
     "metadata": {},
     "output_type": "execute_result"
    }
   ],
   "source": [
    "x"
   ]
  },
  {
   "cell_type": "code",
   "execution_count": 21,
   "id": "125f037c-84d1-4388-aafb-2a20afb56162",
   "metadata": {},
   "outputs": [
    {
     "data": {
      "text/plain": [
       "array([[0., 0., 0., 0., 0.],\n",
       "       [0., 0., 0., 0., 0.],\n",
       "       [0., 0., 0., 0., 0.]])"
      ]
     },
     "execution_count": 21,
     "metadata": {},
     "output_type": "execute_result"
    }
   ],
   "source": [
    "np.zeros([3, 5])"
   ]
  },
  {
   "cell_type": "code",
   "execution_count": 22,
   "id": "b112ffda-8ae2-4ba4-8922-855183c109f0",
   "metadata": {},
   "outputs": [
    {
     "data": {
      "text/plain": [
       "(3, 5, 7)"
      ]
     },
     "execution_count": 22,
     "metadata": {},
     "output_type": "execute_result"
    }
   ],
   "source": [
    "x.shape"
   ]
  },
  {
   "cell_type": "code",
   "execution_count": 25,
   "id": "070b52d4-a3b9-40e7-904c-5545b2232f42",
   "metadata": {},
   "outputs": [
    {
     "data": {
      "text/plain": [
       "array([3, 4, 5])"
      ]
     },
     "execution_count": 25,
     "metadata": {},
     "output_type": "execute_result"
    }
   ],
   "source": [
    "np.array([1, 2, 3]) + 2"
   ]
  },
  {
   "cell_type": "markdown",
   "id": "296d440e-a436-4591-bb82-d28ff89f6348",
   "metadata": {},
   "source": [
    "Using with keyword to open a file"
   ]
  },
  {
   "cell_type": "code",
   "execution_count": 37,
   "id": "0d842b20-e8bb-42a1-bc56-3f923a544115",
   "metadata": {},
   "outputs": [],
   "source": [
    "prices = [7, 1, 5, 3, 6, 4]\n",
    "max = 0\n",
    "buy_sell = (,)\n",
    "dict = {}"
   ]
  },
  {
   "cell_type": "code",
   "execution_count": 44,
   "id": "046e5ce1-2e8b-4656-95f3-d70a24480661",
   "metadata": {},
   "outputs": [
    {
     "ename": "TypeError",
     "evalue": "'>' not supported between instances of 'int' and 'builtin_function_or_method'",
     "output_type": "error",
     "traceback": [
      "\u001b[1;31m---------------------------------------------------------------------------\u001b[0m",
      "\u001b[1;31mTypeError\u001b[0m                                 Traceback (most recent call last)",
      "Cell \u001b[1;32mIn[44], line 4\u001b[0m\n\u001b[0;32m      2\u001b[0m \u001b[38;5;28;01mfor\u001b[39;00m j \u001b[38;5;129;01min\u001b[39;00m \u001b[38;5;28mrange\u001b[39m(i\u001b[38;5;241m+\u001b[39m\u001b[38;5;241m1\u001b[39m, \u001b[38;5;28mlen\u001b[39m(prices)):\n\u001b[0;32m      3\u001b[0m     value \u001b[38;5;241m=\u001b[39m prices[j] \u001b[38;5;241m-\u001b[39m prices[i]\n\u001b[1;32m----> 4\u001b[0m     \u001b[38;5;28;01mif\u001b[39;00m value \u001b[38;5;241m>\u001b[39m \u001b[38;5;28mmax\u001b[39m:\n\u001b[0;32m      5\u001b[0m         \u001b[38;5;28mmax\u001b[39m \u001b[38;5;241m=\u001b[39m \u001b[38;5;241m0\u001b[39m\n\u001b[0;32m      6\u001b[0m         buy_sell \u001b[38;5;241m=\u001b[39m [prices[i], prices[j]]\n",
      "\u001b[1;31mTypeError\u001b[0m: '>' not supported between instances of 'int' and 'builtin_function_or_method'"
     ]
    }
   ],
   "source": [
    "for i in range(len(prices)):\n",
    "    for j in range(i+1, len(prices)):\n",
    "        value = prices[j] - prices[i]\n",
    "        if value > max:\n",
    "            max = 0\n",
    "            buy_sell = [prices[i], prices[j]]"
   ]
  },
  {
   "cell_type": "code",
   "execution_count": null,
   "id": "cb4c3ed9-fa71-46e5-a1b0-dc9f39f3f3a6",
   "metadata": {},
   "outputs": [],
   "source": []
  }
 ],
 "metadata": {
  "kernelspec": {
   "display_name": "Python 3 (ipykernel)",
   "language": "python",
   "name": "python3"
  },
  "language_info": {
   "codemirror_mode": {
    "name": "ipython",
    "version": 3
   },
   "file_extension": ".py",
   "mimetype": "text/x-python",
   "name": "python",
   "nbconvert_exporter": "python",
   "pygments_lexer": "ipython3",
   "version": "3.11.7"
  }
 },
 "nbformat": 4,
 "nbformat_minor": 5
}
