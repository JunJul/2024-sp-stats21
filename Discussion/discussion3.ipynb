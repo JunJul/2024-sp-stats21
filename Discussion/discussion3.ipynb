{
 "cells": [
  {
   "cell_type": "code",
   "execution_count": 1,
   "id": "60bedca1-f218-4a6f-918f-b7c06c60fd8a",
   "metadata": {},
   "outputs": [],
   "source": [
    "l = list()"
   ]
  },
  {
   "cell_type": "code",
   "execution_count": 2,
   "id": "3db38c30-55ed-4afb-8852-8c323b32006e",
   "metadata": {},
   "outputs": [
    {
     "data": {
      "text/plain": [
       "list"
      ]
     },
     "execution_count": 2,
     "metadata": {},
     "output_type": "execute_result"
    }
   ],
   "source": [
    "type(l)"
   ]
  },
  {
   "cell_type": "markdown",
   "id": "a7cbe41a-f457-4134-b459-191b7bc88f74",
   "metadata": {},
   "source": [
    "Integer and floating-point numbers"
   ]
  },
  {
   "cell_type": "code",
   "execution_count": 7,
   "id": "eed9a368-0a37-4ed7-9c86-78e6f032f0e8",
   "metadata": {},
   "outputs": [],
   "source": [
    "import math\n",
    "def poiss_pmf(km, param_lambda):\n",
    "    return param_lambda**km * math.e**(-param_lambda) / math.factorial(km)"
   ]
  },
  {
   "cell_type": "code",
   "execution_count": 11,
   "id": "64dc8787-abe1-4497-a751-87837696016b",
   "metadata": {},
   "outputs": [
    {
     "data": {
      "text/plain": [
       "0.16803135574154082"
      ]
     },
     "execution_count": 11,
     "metadata": {},
     "output_type": "execute_result"
    }
   ],
   "source": [
    "poiss_pmf(4, 3)"
   ]
  },
  {
   "cell_type": "code",
   "execution_count": 13,
   "id": "18334c79-07ef-4f7a-8717-5a1e42242b38",
   "metadata": {},
   "outputs": [],
   "source": [
    "x = [3, 6, 1, -2, 7, None, \"a\", \"asdf\", True]"
   ]
  },
  {
   "cell_type": "code",
   "execution_count": 14,
   "id": "53a418d2-62f8-45d9-898d-2c310ce76adf",
   "metadata": {},
   "outputs": [
    {
     "data": {
      "text/plain": [
       "[3, 6, 1, -2, 7, None, 'a', 'asdf', True]"
      ]
     },
     "execution_count": 14,
     "metadata": {},
     "output_type": "execute_result"
    }
   ],
   "source": [
    "x"
   ]
  },
  {
   "cell_type": "code",
   "execution_count": 15,
   "id": "36643d39-d633-4270-b615-2be590d9c5db",
   "metadata": {},
   "outputs": [
    {
     "data": {
      "text/plain": [
       "[3, 6, 1, -2, 7, None, 'a', 'asdf']"
      ]
     },
     "execution_count": 15,
     "metadata": {},
     "output_type": "execute_result"
    }
   ],
   "source": [
    "x[:-1]"
   ]
  },
  {
   "cell_type": "code",
   "execution_count": 17,
   "id": "76999f4b-a231-434a-a7d5-d1a9191a2f9d",
   "metadata": {},
   "outputs": [
    {
     "data": {
      "text/plain": [
       "[3, 6, 1, -2, 7, None, 'a']"
      ]
     },
     "execution_count": 17,
     "metadata": {},
     "output_type": "execute_result"
    }
   ],
   "source": [
    "x = x[:-1]\n",
    "x"
   ]
  },
  {
   "cell_type": "code",
   "execution_count": 18,
   "id": "a60e6a8f-645a-4cc6-9cb5-123a3752a361",
   "metadata": {},
   "outputs": [
    {
     "data": {
      "text/plain": [
       "[6, 1]"
      ]
     },
     "execution_count": 18,
     "metadata": {},
     "output_type": "execute_result"
    }
   ],
   "source": [
    "x[1:3]"
   ]
  },
  {
   "cell_type": "code",
   "execution_count": 26,
   "id": "312c0e2b-b2ae-4b28-8a2d-6717e8626d71",
   "metadata": {},
   "outputs": [
    {
     "name": "stdout",
     "output_type": "stream",
     "text": [
      "None\n"
     ]
    }
   ],
   "source": [
    "def addTwo(x):\n",
    "    x = x + 2\n",
    "\n",
    "addTwo(3)\n",
    "out = addTwo(3)\n",
    "print(addTwo(3))"
   ]
  },
  {
   "cell_type": "code",
   "execution_count": 30,
   "id": "e0febf9f-c39d-4102-b4ff-d400df785639",
   "metadata": {},
   "outputs": [
    {
     "data": {
      "text/plain": [
       "[6, -2, 1]"
      ]
     },
     "execution_count": 30,
     "metadata": {},
     "output_type": "execute_result"
    }
   ],
   "source": [
    "out = []\n",
    "for idx in (1,3,2):\n",
    "    out.append(x[idx])\n",
    "out"
   ]
  },
  {
   "cell_type": "code",
   "execution_count": 32,
   "id": "a1f2097b-cecc-43ec-b76b-9fb23b1799eb",
   "metadata": {},
   "outputs": [
    {
     "data": {
      "text/plain": [
       "range(0, 5)"
      ]
     },
     "execution_count": 32,
     "metadata": {},
     "output_type": "execute_result"
    }
   ],
   "source": [
    "range(5)"
   ]
  },
  {
   "cell_type": "code",
   "execution_count": 33,
   "id": "f6ccb385-91db-45f2-93be-807205e55be9",
   "metadata": {},
   "outputs": [
    {
     "data": {
      "text/plain": [
       "[0, 1, 2, 3, 4]"
      ]
     },
     "execution_count": 33,
     "metadata": {},
     "output_type": "execute_result"
    }
   ],
   "source": [
    "list(range(5))"
   ]
  },
  {
   "cell_type": "code",
   "execution_count": 34,
   "id": "a07b8e5b-6a7b-4d16-91a4-475206e178cd",
   "metadata": {},
   "outputs": [
    {
     "data": {
      "text/plain": [
       "range(0, 1000000000000000)"
      ]
     },
     "execution_count": 34,
     "metadata": {},
     "output_type": "execute_result"
    }
   ],
   "source": [
    "range(1000000000000000)"
   ]
  },
  {
   "cell_type": "code",
   "execution_count": 35,
   "id": "96f9d4e7-c6b6-4acb-8d0d-908f201b5030",
   "metadata": {},
   "outputs": [
    {
     "data": {
      "text/plain": [
       "[-5, -1]"
      ]
     },
     "execution_count": 35,
     "metadata": {},
     "output_type": "execute_result"
    }
   ],
   "source": [
    "list(range(-5, 3, 4))"
   ]
  },
  {
   "cell_type": "code",
   "execution_count": 36,
   "id": "4a92bf5b-c4dd-4e14-bee0-8d229b1ae750",
   "metadata": {},
   "outputs": [],
   "source": [
    "def my_len(l):\n",
    "    n = 0\n",
    "    for i in l:\n",
    "        n = n + 1\n",
    "    return n"
   ]
  },
  {
   "cell_type": "code",
   "execution_count": 37,
   "id": "559bd13e-5b06-4a8d-b08a-85b70b968a83",
   "metadata": {},
   "outputs": [
    {
     "name": "stdout",
     "output_type": "stream",
     "text": [
      "[1, 2, 3]\n",
      "[1, 2, 3]\n",
      "[1, 2]\n",
      "[1, 2]\n"
     ]
    }
   ],
   "source": [
    "a = b = []\n",
    "a += [1,2,3]\n",
    "print(a)\n",
    "print(b)\n",
    "b.pop(2)\n",
    "print(a)\n",
    "print(b)"
   ]
  },
  {
   "cell_type": "code",
   "execution_count": null,
   "id": "9defc661-577a-4dce-bde5-033d5d864b50",
   "metadata": {},
   "outputs": [],
   "source": [
    "def getPrimes(max = 2):\n",
    "    l = []\n",
    "    if max == 2:\n",
    "        return list(2)\n",
    "\n",
    "    for i in range(2, max):\n",
    "        for j in range(2, i):\n",
    "            if i % j != 0:"
   ]
  }
 ],
 "metadata": {
  "kernelspec": {
   "display_name": "Python 3 (ipykernel)",
   "language": "python",
   "name": "python3"
  },
  "language_info": {
   "codemirror_mode": {
    "name": "ipython",
    "version": 3
   },
   "file_extension": ".py",
   "mimetype": "text/x-python",
   "name": "python",
   "nbconvert_exporter": "python",
   "pygments_lexer": "ipython3",
   "version": "3.11.7"
  }
 },
 "nbformat": 4,
 "nbformat_minor": 5
}
