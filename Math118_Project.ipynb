{
  "metadata": {
    "kernelspec": {
      "language": "python",
      "display_name": "Python 3",
      "name": "python3"
    },
    "language_info": {
      "name": "python",
      "version": "3.10.14",
      "mimetype": "text/x-python",
      "codemirror_mode": {
        "name": "ipython",
        "version": 3
      },
      "pygments_lexer": "ipython3",
      "nbconvert_exporter": "python",
      "file_extension": ".py"
    },
    "kaggle": {
      "accelerator": "none",
      "dataSources": [
        {
          "sourceId": 7876,
          "sourceType": "datasetVersion",
          "datasetId": 5227
        }
      ],
      "dockerImageVersionId": 30786,
      "isInternetEnabled": true,
      "language": "python",
      "sourceType": "notebook",
      "isGpuEnabled": false
    },
    "colab": {
      "provenance": [],
      "include_colab_link": true
    }
  },
  "nbformat_minor": 0,
  "nbformat": 4,
  "cells": [
    {
      "cell_type": "markdown",
      "metadata": {
        "id": "view-in-github",
        "colab_type": "text"
      },
      "source": [
        "<a href=\"https://colab.research.google.com/github/JunJul/2024-sp-stats21/blob/main/Math118_Project.ipynb\" target=\"_parent\"><img src=\"https://colab.research.google.com/assets/colab-badge.svg\" alt=\"Open In Colab\"/></a>"
      ]
    },
    {
      "cell_type": "code",
      "source": [
        "import numpy as np\n",
        "import matplotlib.pyplot as plt\n",
        "import seaborn as sns\n",
        "import pandas as pd\n",
        "\n",
        "sns.set_style('darkgrid')"
      ],
      "metadata": {
        "id": "3ySjyFbjM8r2"
      },
      "execution_count": null,
      "outputs": []
    },
    {
      "cell_type": "markdown",
      "source": [
        "## Read data frame"
      ],
      "metadata": {
        "id": "79CNaYgIMQpP"
      }
    },
    {
      "cell_type": "code",
      "source": [
        "from sklearn.datasets import load_diabetes"
      ],
      "metadata": {
        "execution": {
          "iopub.status.busy": "2024-11-19T04:35:02.577742Z",
          "iopub.execute_input": "2024-11-19T04:35:02.578193Z",
          "iopub.status.idle": "2024-11-19T04:35:02.722072Z",
          "shell.execute_reply.started": "2024-11-19T04:35:02.578153Z",
          "shell.execute_reply": "2024-11-19T04:35:02.720834Z"
        },
        "trusted": true,
        "id": "TKqJmSaEMQpQ"
      },
      "execution_count": null,
      "outputs": []
    },
    {
      "cell_type": "code",
      "source": [
        "X, y = load_diabetes(return_X_y=True)"
      ],
      "metadata": {
        "execution": {
          "iopub.status.busy": "2024-11-19T04:35:23.688341Z",
          "iopub.execute_input": "2024-11-19T04:35:23.689811Z",
          "iopub.status.idle": "2024-11-19T04:35:23.707682Z",
          "shell.execute_reply.started": "2024-11-19T04:35:23.689751Z",
          "shell.execute_reply": "2024-11-19T04:35:23.706341Z"
        },
        "trusted": true,
        "id": "Mz-m0GZsMQpQ"
      },
      "execution_count": null,
      "outputs": []
    },
    {
      "cell_type": "markdown",
      "source": [
        "## Modeling"
      ],
      "metadata": {
        "id": "oB8AV_3mMQpQ"
      }
    },
    {
      "cell_type": "code",
      "source": [
        "from sklearn.linear_model import LinearRegression\n",
        "from sklearn.model_selection import train_test_split\n",
        "from sklearn.metrics import mean_squared_error, r2_score"
      ],
      "metadata": {
        "execution": {
          "iopub.status.busy": "2024-11-19T04:28:58.715618Z",
          "iopub.execute_input": "2024-11-19T04:28:58.716052Z",
          "iopub.status.idle": "2024-11-19T04:28:58.72651Z",
          "shell.execute_reply.started": "2024-11-19T04:28:58.715985Z",
          "shell.execute_reply": "2024-11-19T04:28:58.724865Z"
        },
        "trusted": true,
        "id": "mbdw874vMQpR"
      },
      "execution_count": null,
      "outputs": []
    },
    {
      "cell_type": "code",
      "source": [
        "X_train, X_test, y_train, y_test = train_test_split(X, y, test_size=0.3, random_state=42)"
      ],
      "metadata": {
        "execution": {
          "iopub.status.busy": "2024-11-19T04:35:37.147213Z",
          "iopub.execute_input": "2024-11-19T04:35:37.147651Z",
          "iopub.status.idle": "2024-11-19T04:35:37.155962Z",
          "shell.execute_reply.started": "2024-11-19T04:35:37.147603Z",
          "shell.execute_reply": "2024-11-19T04:35:37.154357Z"
        },
        "trusted": true,
        "id": "1T-bCrgpMQpR"
      },
      "execution_count": null,
      "outputs": []
    },
    {
      "cell_type": "code",
      "source": [
        "model = LinearRegression()\n",
        "\n",
        "model.fit(X_train, y_train)\n",
        "y_pred = model.predict(X_test)\n",
        "\n",
        "mse = mean_squared_error(y_test, y_pred)\n",
        "r2 = r2_score(y_test, y_pred)\n",
        "print(\"The mean squared error is {}\".format(mse))\n",
        "print(\"R Squared: {}\".format(r2 * 100))"
      ],
      "metadata": {
        "execution": {
          "iopub.status.busy": "2024-11-19T04:35:40.193204Z",
          "iopub.execute_input": "2024-11-19T04:35:40.19365Z",
          "iopub.status.idle": "2024-11-19T04:35:40.205252Z",
          "shell.execute_reply.started": "2024-11-19T04:35:40.193611Z",
          "shell.execute_reply": "2024-11-19T04:35:40.204115Z"
        },
        "trusted": true,
        "id": "EjPZYEWtMQpS",
        "outputId": "ae655904-7ad5-404e-b71d-58cc7069b125",
        "colab": {
          "base_uri": "https://localhost:8080/"
        }
      },
      "execution_count": null,
      "outputs": [
        {
          "output_type": "stream",
          "name": "stdout",
          "text": [
            "The mean squared error is 2821.750981001311\n",
            "R Squared: 47.72897164322617\n"
          ]
        }
      ]
    },
    {
      "cell_type": "markdown",
      "source": [
        "#### The mean squared error is really big because the model may have multicollinearity issue. However, we could try to use dimension reduction techquies to reduce complexity of the model."
      ],
      "metadata": {
        "id": "DQqdwuNKMQpS"
      }
    },
    {
      "cell_type": "markdown",
      "source": [
        "## PCR Algorithm"
      ],
      "metadata": {
        "id": "mYHrp7xVMQpS"
      }
    },
    {
      "cell_type": "code",
      "source": [
        "X.shape"
      ],
      "metadata": {
        "execution": {
          "iopub.status.busy": "2024-11-19T04:36:31.248775Z",
          "iopub.execute_input": "2024-11-19T04:36:31.249233Z",
          "iopub.status.idle": "2024-11-19T04:36:31.257773Z",
          "shell.execute_reply.started": "2024-11-19T04:36:31.249183Z",
          "shell.execute_reply": "2024-11-19T04:36:31.256434Z"
        },
        "trusted": true,
        "id": "P5TrjrVKMQpS",
        "outputId": "87a2691c-7ff3-498e-f4a2-390ef35e38f5",
        "colab": {
          "base_uri": "https://localhost:8080/"
        }
      },
      "execution_count": null,
      "outputs": [
        {
          "output_type": "execute_result",
          "data": {
            "text/plain": [
              "(442, 10)"
            ]
          },
          "metadata": {},
          "execution_count": 32
        }
      ]
    },
    {
      "cell_type": "code",
      "source": [
        "from sklearn.decomposition import PCA\n",
        "from sklearn.pipeline import Pipeline"
      ],
      "metadata": {
        "execution": {
          "iopub.status.busy": "2024-11-19T04:35:47.99867Z",
          "iopub.execute_input": "2024-11-19T04:35:47.999227Z",
          "iopub.status.idle": "2024-11-19T04:35:48.004801Z",
          "shell.execute_reply.started": "2024-11-19T04:35:47.999178Z",
          "shell.execute_reply": "2024-11-19T04:35:48.003244Z"
        },
        "trusted": true,
        "id": "miQCMq1LMQpS"
      },
      "execution_count": null,
      "outputs": []
    },
    {
      "cell_type": "code",
      "source": [
        "pcr_mse = []\n",
        "pcr_r2 = []\n",
        "pcr_coef = []\n",
        "pcr_singular_values = []\n",
        "\n",
        "for component in range(1, 11):\n",
        "  pca = PCA(n_components = component)\n",
        "\n",
        "  reg = LinearRegression()\n",
        "  pipeline = Pipeline(steps=[('pca', pca),\n",
        "                            ('reg', reg)])\n",
        "\n",
        "  # Fit the pipeline to the data\n",
        "  pipeline.fit(X_train, y_train)\n",
        "\n",
        "  # Predict the labels for the data\n",
        "  y_pred = pipeline.predict(X_test)\n",
        "\n",
        "  mse = mean_squared_error(y_test, y_pred)\n",
        "  r2 = r2_score(y_test, y_pred)\n",
        "  linearReg = pipeline.named_steps['reg']\n",
        "  pca_model = pipeline.named_steps['pca']\n",
        "  coef = linearReg.coef_\n",
        "\n",
        "  pcr_mse.append(mse)\n",
        "  pcr_r2.append(r2)\n",
        "  pcr_coef.append(coef)\n",
        "  pcr_singular_values.append(pca_model.singular_values_)"
      ],
      "metadata": {
        "execution": {
          "iopub.status.busy": "2024-11-19T04:36:57.80491Z",
          "iopub.execute_input": "2024-11-19T04:36:57.805358Z",
          "iopub.status.idle": "2024-11-19T04:36:57.818894Z",
          "shell.execute_reply.started": "2024-11-19T04:36:57.805322Z",
          "shell.execute_reply": "2024-11-19T04:36:57.817594Z"
        },
        "trusted": true,
        "id": "Ig8YBLYAMQpS"
      },
      "execution_count": null,
      "outputs": []
    },
    {
      "cell_type": "code",
      "source": [
        " pipeline.named_steps['pca'].components_"
      ],
      "metadata": {
        "colab": {
          "base_uri": "https://localhost:8080/"
        },
        "id": "sCFaZWwjdnBn",
        "outputId": "2b7d3306-a5ee-429f-ac91-aeb87ea47715"
      },
      "execution_count": null,
      "outputs": [
        {
          "output_type": "execute_result",
          "data": {
            "text/plain": [
              "array([[ 0.18807449,  0.1584818 ,  0.30908225,  0.24823905,  0.35701038,\n",
              "         0.35651424, -0.2759464 ,  0.44308814,  0.38417026,  0.32823454],\n",
              "       [ 0.12796722, -0.36644718, -0.16748584, -0.04115022,  0.55300794,\n",
              "         0.42437389,  0.55473965, -0.12873537, -0.03321714, -0.09095482],\n",
              "       [ 0.41110162, -0.15990147,  0.2577451 ,  0.57475251, -0.14388176,\n",
              "        -0.3303754 ,  0.28502503, -0.34488008,  0.10748489,  0.25897798],\n",
              "       [ 0.43004175,  0.74047281, -0.42298047,  0.13065153,  0.0471085 ,\n",
              "         0.09740767,  0.11632653, -0.05310849, -0.19755799, -0.06076851],\n",
              "       [ 0.70503745, -0.27136612, -0.13517583, -0.53806746, -0.10114084,\n",
              "        -0.15256641, -0.16913161,  0.09218503,  0.22548258,  0.00644724],\n",
              "       [-0.2399803 , -0.00439853, -0.45657399, -0.15534556,  0.00506158,\n",
              "        -0.10255797,  0.10606411, -0.04983114,  0.11000445,  0.82062207],\n",
              "       [-0.17100629,  0.00485957, -0.42235033,  0.23126317,  0.10243495,\n",
              "        -0.27837081,  0.03870165,  0.06103389,  0.71156037, -0.37329137],\n",
              "       [-0.10053232,  0.43836849,  0.4745532 , -0.4701455 ,  0.12847273,\n",
              "        -0.17071172,  0.40101583, -0.19497748,  0.32660762,  0.01840101],\n",
              "       [ 0.01582807, -0.02947634,  0.02252637,  0.03257003, -0.0460961 ,\n",
              "        -0.35312714,  0.46848266,  0.7764758 , -0.21926265, -0.00468669],\n",
              "       [ 0.00656832,  0.00363293,  0.01585412, -0.00668434,  0.71022992,\n",
              "        -0.55591548, -0.31575903, -0.09848894, -0.27697922,  0.0075989 ]])"
            ]
          },
          "metadata": {},
          "execution_count": 35
        }
      ]
    },
    {
      "cell_type": "code",
      "source": [
        "pcr_singular_values[2]"
      ],
      "metadata": {
        "colab": {
          "base_uri": "https://localhost:8080/"
        },
        "id": "Bwkq7WpyYrym",
        "outputId": "6cc9797f-22d0-4b90-c6a4-a256b521014c"
      },
      "execution_count": null,
      "outputs": [
        {
          "output_type": "execute_result",
          "data": {
            "text/plain": [
              "array([1.67537701, 1.01657585, 0.93790276])"
            ]
          },
          "metadata": {},
          "execution_count": 36
        }
      ]
    },
    {
      "cell_type": "code",
      "source": [
        "pcr_coef"
      ],
      "metadata": {
        "id": "CMRdAPUpNWoV",
        "outputId": "dac29a55-dad7-4464-ebaa-c4920b215ca3",
        "colab": {
          "base_uri": "https://localhost:8080/"
        }
      },
      "execution_count": null,
      "outputs": [
        {
          "output_type": "execute_result",
          "data": {
            "text/plain": [
              "[array([448.99844417]),\n",
              " array([ 448.99844417, -287.10240012]),\n",
              " array([ 448.99844417, -287.10240012,  397.03754697]),\n",
              " array([ 448.99844417, -287.10240012,  397.03754697, -488.62459355]),\n",
              " array([ 448.99844417, -287.10240012,  397.03754697, -488.62459355,\n",
              "         -22.29573781]),\n",
              " array([ 448.99844417, -287.10240012,  397.03754697, -488.62459355,\n",
              "         -22.29573781, -267.19525783]),\n",
              " array([ 448.99844417, -287.10240012,  397.03754697, -488.62459355,\n",
              "         -22.29573781, -267.19525783,   95.29055931]),\n",
              " array([ 448.99844417, -287.10240012,  397.03754697, -488.62459355,\n",
              "         -22.29573781, -267.19525783,   95.29055931,  -34.89988512]),\n",
              " array([ 448.99844417, -287.10240012,  397.03754697, -488.62459355,\n",
              "         -22.29573781, -267.19525783,   95.29055931,  -34.89988512,\n",
              "          31.42259471]),\n",
              " array([  448.99844417,  -287.10240012,   397.03754697,  -488.62459355,\n",
              "          -22.29573781,  -267.19525783,    95.29055931,   -34.89988512,\n",
              "           31.42259471, -1165.9232196 ])]"
            ]
          },
          "metadata": {},
          "execution_count": 37
        }
      ]
    },
    {
      "cell_type": "markdown",
      "source": [
        "## PFC"
      ],
      "metadata": {
        "id": "5wbLQfk-MQpT"
      }
    },
    {
      "cell_type": "code",
      "source": [
        "def pfc(X, Y, num_directions=1):\n",
        "    # Step 1: Center X\n",
        "    X_centered = X - X.mean(axis=0)\n",
        "\n",
        "    # Step 2: Fit multivariate regression of X on Y\n",
        "    reg = LinearRegression().fit(Y.reshape(-1, 1), X_centered)\n",
        "    X_fitted = reg.predict(Y.reshape(-1, 1))\n",
        "\n",
        "    # Step 3: Compute the covariance matrix of fitted values\n",
        "    cov_fit = np.cov(X_fitted, rowvar=False)\n",
        "\n",
        "    # Step 4: Perform eigendecomposition\n",
        "    eigvals, eigvecs = np.linalg.eigh(cov_fit)\n",
        "    sorted_indices = np.argsort(eigvals)[::-1]\n",
        "    directions = eigvecs[:, sorted_indices[:num_directions]]\n",
        "\n",
        "    # Select top `num_directions` eigenvectors\n",
        "    directions = eigvecs[:, sorted_indices[:num_directions]]\n",
        "\n",
        "    # Step 5: Project X onto the subspace\n",
        "    components = X_centered @ directions\n",
        "\n",
        "    return components, directions, eigvals"
      ],
      "metadata": {
        "execution": {
          "iopub.status.busy": "2024-11-19T06:41:53.411754Z",
          "iopub.execute_input": "2024-11-19T06:41:53.412155Z",
          "iopub.status.idle": "2024-11-19T06:41:53.442596Z",
          "shell.execute_reply.started": "2024-11-19T06:41:53.412117Z",
          "shell.execute_reply": "2024-11-19T06:41:53.441433Z"
        },
        "trusted": true,
        "id": "v6Holhd1MQpT"
      },
      "execution_count": null,
      "outputs": []
    },
    {
      "cell_type": "code",
      "source": [
        "from scipy.linalg import eigh\n",
        "def pfc2(X, Y, num_components=1):\n",
        "  X_centered = X - np.mean(X, axis=0)\n",
        "\n",
        "    # Step 2: Compute basis function f_Y\n",
        "    # Example: Use slicing as the basis function\n",
        "  unique_y = np.unique(Y)\n",
        "  num_slices = len(unique_y)\n",
        "  f_Y = np.zeros((len(Y), num_slices))\n",
        "  for i, val in enumerate(unique_y):\n",
        "    f_Y[:, i] = (Y == val).astype(float) - np.mean(Y == val)\n",
        "\n",
        "    # Step 3: Regression of X on f_Y\n",
        "  F = f_Y - np.mean(f_Y, axis=0)  # Center the basis function\n",
        "  B = np.linalg.pinv(F.T @ F) @ F.T @ X_centered  # Regression coefficients\n",
        "  fitted_X = F @ B  # Fitted values\n",
        "\n",
        "    # Step 4: Covariance matrix and eigen decomposition\n",
        "  cov_fit = np.cov(fitted_X, rowvar=False)\n",
        "  eigenvalues, eigenvectors = eigh(cov_fit)  # Use 'eigh' for symmetric matrices\n",
        "\n",
        "    # Step 5: Select top `num_components` PFC directions\n",
        "  top_indices = np.argsort(eigenvalues)[-num_components:][::-1]  # Largest eigenvalues\n",
        "  PFC_directions = eigenvectors[:, top_indices]\n",
        "\n",
        "    # Step 6: Project data onto PFC directions\n",
        "  reduced_X = X_centered @ PFC_directions\n",
        "\n",
        "  return PFC_directions, reduced_X"
      ],
      "metadata": {
        "id": "BYSONqVcZ5mj"
      },
      "execution_count": null,
      "outputs": []
    },
    {
      "cell_type": "code",
      "source": [
        "pfc_mse = []\n",
        "pfc_r2 = []\n",
        "pfc_coef = []\n",
        "pfc_eigenvalues = []\n",
        "\n",
        "for component in range(1, 11):\n",
        "  directions, pca_components = pfc2(X, y, num_components = component)\n",
        "\n",
        "  X_train, X_test, y_train, y_test = train_test_split(pca_components, y, test_size=0.3, random_state=42)\n",
        "  model = LinearRegression()\n",
        "  model.fit(X_train, y_train)\n",
        "  y_pred = model.predict(X_test)\n",
        "  mse = mean_squared_error(y_test, y_pred)\n",
        "  r2 = r2_score(y_test, y_pred)\n",
        "\n",
        "  pfc_mse.append(mse)\n",
        "  pfc_r2.append(r2)\n",
        "  pfc_coef.append(model.coef_)\n",
        "  # pfc_eigenvalues.append(eigvals)"
      ],
      "metadata": {
        "id": "DgsJg40RMQpT"
      },
      "execution_count": null,
      "outputs": []
    },
    {
      "cell_type": "code",
      "source": [
        "directions[4]"
      ],
      "metadata": {
        "colab": {
          "base_uri": "https://localhost:8080/"
        },
        "id": "wdWgJ-1PQiOl",
        "outputId": "da9d81fe-a8c3-4883-ad64-25d353659410"
      },
      "execution_count": null,
      "outputs": [
        {
          "output_type": "execute_result",
          "data": {
            "text/plain": [
              "array([-0.26479518, -0.60686084, -0.05393982,  0.04077871,  0.14668689,\n",
              "       -0.07433502,  0.00797768,  0.15048003,  0.07606258,  0.70816303])"
            ]
          },
          "metadata": {},
          "execution_count": 43
        }
      ]
    },
    {
      "cell_type": "code",
      "source": [
        "pfc_coef"
      ],
      "metadata": {
        "colab": {
          "base_uri": "https://localhost:8080/"
        },
        "id": "JjeJSVcPSL78",
        "outputId": "50223964-6681-4a6a-99f9-46d523373f93"
      },
      "execution_count": null,
      "outputs": [
        {
          "output_type": "execute_result",
          "data": {
            "text/plain": [
              "[array([-482.83304654]),\n",
              " array([-516.47894818,  335.50096781]),\n",
              " array([-528.19666284,  351.75303794, -340.67907209]),\n",
              " array([-538.14624667,  348.14904554, -361.68521407, -381.23831024]),\n",
              " array([-540.48884803,  348.4842693 , -356.47058953, -374.21230621,\n",
              "        -132.98655303]),\n",
              " array([-546.09791771,  359.69421045, -362.17842371, -368.20126716,\n",
              "        -137.49890828, -220.85313177]),\n",
              " array([-546.70140642,  359.63141302, -361.8940901 , -368.07246515,\n",
              "        -136.07688164, -222.25644365,  -24.2222753 ]),\n",
              " array([-546.5576464 ,  359.29887141, -361.50276076, -367.50368962,\n",
              "        -136.94268669, -222.99260103,  -24.84852732,  -13.66773218]),\n",
              " array([-546.00182966,  357.38339587, -361.58979247, -367.71898478,\n",
              "        -137.59557108, -223.57282496,  -23.50340551,  -14.49556628,\n",
              "         -48.45189025]),\n",
              " array([ -550.84027268,   360.56790777,  -360.42727446,  -373.05468756,\n",
              "         -124.94481207,  -225.98483612,   -34.59042958,   -29.21282886,\n",
              "          -66.04668122, -1160.76224279])]"
            ]
          },
          "metadata": {},
          "execution_count": 44
        }
      ]
    },
    {
      "cell_type": "code",
      "source": [
        "model_mse = pd.DataFrame({'pcr_mse': pcr_mse, 'pfc_mse': pfc_mse})"
      ],
      "metadata": {
        "id": "xqEOMUEDOAsL"
      },
      "execution_count": null,
      "outputs": []
    },
    {
      "cell_type": "code",
      "source": [
        "model_mse"
      ],
      "metadata": {
        "id": "LNHihOwyhPBh",
        "outputId": "37f85bd0-de7e-4e18-8361-6c9552273a69",
        "colab": {
          "base_uri": "https://localhost:8080/",
          "height": 363
        }
      },
      "execution_count": null,
      "outputs": [
        {
          "output_type": "execute_result",
          "data": {
            "text/plain": [
              "       pcr_mse      pfc_mse\n",
              "0  3595.265587  3433.916724\n",
              "1  3523.006254  3427.203313\n",
              "2  3467.698991  3250.670014\n",
              "3  2809.991321  2760.878902\n",
              "4  2810.797714  2809.714979\n",
              "5  2891.293892  2838.835453\n",
              "6  2811.366389  2821.957821\n",
              "7  2832.201904  2830.213107\n",
              "8  2836.815021  2836.970730\n",
              "9  2821.750981  2821.750981"
            ],
            "text/html": [
              "\n",
              "  <div id=\"df-f8ce634e-be67-4b96-a107-1ff8f2fec56a\" class=\"colab-df-container\">\n",
              "    <div>\n",
              "<style scoped>\n",
              "    .dataframe tbody tr th:only-of-type {\n",
              "        vertical-align: middle;\n",
              "    }\n",
              "\n",
              "    .dataframe tbody tr th {\n",
              "        vertical-align: top;\n",
              "    }\n",
              "\n",
              "    .dataframe thead th {\n",
              "        text-align: right;\n",
              "    }\n",
              "</style>\n",
              "<table border=\"1\" class=\"dataframe\">\n",
              "  <thead>\n",
              "    <tr style=\"text-align: right;\">\n",
              "      <th></th>\n",
              "      <th>pcr_mse</th>\n",
              "      <th>pfc_mse</th>\n",
              "    </tr>\n",
              "  </thead>\n",
              "  <tbody>\n",
              "    <tr>\n",
              "      <th>0</th>\n",
              "      <td>3595.265587</td>\n",
              "      <td>3433.916724</td>\n",
              "    </tr>\n",
              "    <tr>\n",
              "      <th>1</th>\n",
              "      <td>3523.006254</td>\n",
              "      <td>3427.203313</td>\n",
              "    </tr>\n",
              "    <tr>\n",
              "      <th>2</th>\n",
              "      <td>3467.698991</td>\n",
              "      <td>3250.670014</td>\n",
              "    </tr>\n",
              "    <tr>\n",
              "      <th>3</th>\n",
              "      <td>2809.991321</td>\n",
              "      <td>2760.878902</td>\n",
              "    </tr>\n",
              "    <tr>\n",
              "      <th>4</th>\n",
              "      <td>2810.797714</td>\n",
              "      <td>2809.714979</td>\n",
              "    </tr>\n",
              "    <tr>\n",
              "      <th>5</th>\n",
              "      <td>2891.293892</td>\n",
              "      <td>2838.835453</td>\n",
              "    </tr>\n",
              "    <tr>\n",
              "      <th>6</th>\n",
              "      <td>2811.366389</td>\n",
              "      <td>2821.957821</td>\n",
              "    </tr>\n",
              "    <tr>\n",
              "      <th>7</th>\n",
              "      <td>2832.201904</td>\n",
              "      <td>2830.213107</td>\n",
              "    </tr>\n",
              "    <tr>\n",
              "      <th>8</th>\n",
              "      <td>2836.815021</td>\n",
              "      <td>2836.970730</td>\n",
              "    </tr>\n",
              "    <tr>\n",
              "      <th>9</th>\n",
              "      <td>2821.750981</td>\n",
              "      <td>2821.750981</td>\n",
              "    </tr>\n",
              "  </tbody>\n",
              "</table>\n",
              "</div>\n",
              "    <div class=\"colab-df-buttons\">\n",
              "\n",
              "  <div class=\"colab-df-container\">\n",
              "    <button class=\"colab-df-convert\" onclick=\"convertToInteractive('df-f8ce634e-be67-4b96-a107-1ff8f2fec56a')\"\n",
              "            title=\"Convert this dataframe to an interactive table.\"\n",
              "            style=\"display:none;\">\n",
              "\n",
              "  <svg xmlns=\"http://www.w3.org/2000/svg\" height=\"24px\" viewBox=\"0 -960 960 960\">\n",
              "    <path d=\"M120-120v-720h720v720H120Zm60-500h600v-160H180v160Zm220 220h160v-160H400v160Zm0 220h160v-160H400v160ZM180-400h160v-160H180v160Zm440 0h160v-160H620v160ZM180-180h160v-160H180v160Zm440 0h160v-160H620v160Z\"/>\n",
              "  </svg>\n",
              "    </button>\n",
              "\n",
              "  <style>\n",
              "    .colab-df-container {\n",
              "      display:flex;\n",
              "      gap: 12px;\n",
              "    }\n",
              "\n",
              "    .colab-df-convert {\n",
              "      background-color: #E8F0FE;\n",
              "      border: none;\n",
              "      border-radius: 50%;\n",
              "      cursor: pointer;\n",
              "      display: none;\n",
              "      fill: #1967D2;\n",
              "      height: 32px;\n",
              "      padding: 0 0 0 0;\n",
              "      width: 32px;\n",
              "    }\n",
              "\n",
              "    .colab-df-convert:hover {\n",
              "      background-color: #E2EBFA;\n",
              "      box-shadow: 0px 1px 2px rgba(60, 64, 67, 0.3), 0px 1px 3px 1px rgba(60, 64, 67, 0.15);\n",
              "      fill: #174EA6;\n",
              "    }\n",
              "\n",
              "    .colab-df-buttons div {\n",
              "      margin-bottom: 4px;\n",
              "    }\n",
              "\n",
              "    [theme=dark] .colab-df-convert {\n",
              "      background-color: #3B4455;\n",
              "      fill: #D2E3FC;\n",
              "    }\n",
              "\n",
              "    [theme=dark] .colab-df-convert:hover {\n",
              "      background-color: #434B5C;\n",
              "      box-shadow: 0px 1px 3px 1px rgba(0, 0, 0, 0.15);\n",
              "      filter: drop-shadow(0px 1px 2px rgba(0, 0, 0, 0.3));\n",
              "      fill: #FFFFFF;\n",
              "    }\n",
              "  </style>\n",
              "\n",
              "    <script>\n",
              "      const buttonEl =\n",
              "        document.querySelector('#df-f8ce634e-be67-4b96-a107-1ff8f2fec56a button.colab-df-convert');\n",
              "      buttonEl.style.display =\n",
              "        google.colab.kernel.accessAllowed ? 'block' : 'none';\n",
              "\n",
              "      async function convertToInteractive(key) {\n",
              "        const element = document.querySelector('#df-f8ce634e-be67-4b96-a107-1ff8f2fec56a');\n",
              "        const dataTable =\n",
              "          await google.colab.kernel.invokeFunction('convertToInteractive',\n",
              "                                                    [key], {});\n",
              "        if (!dataTable) return;\n",
              "\n",
              "        const docLinkHtml = 'Like what you see? Visit the ' +\n",
              "          '<a target=\"_blank\" href=https://colab.research.google.com/notebooks/data_table.ipynb>data table notebook</a>'\n",
              "          + ' to learn more about interactive tables.';\n",
              "        element.innerHTML = '';\n",
              "        dataTable['output_type'] = 'display_data';\n",
              "        await google.colab.output.renderOutput(dataTable, element);\n",
              "        const docLink = document.createElement('div');\n",
              "        docLink.innerHTML = docLinkHtml;\n",
              "        element.appendChild(docLink);\n",
              "      }\n",
              "    </script>\n",
              "  </div>\n",
              "\n",
              "\n",
              "<div id=\"df-493e21d5-051a-4665-b7fc-f66c8a411271\">\n",
              "  <button class=\"colab-df-quickchart\" onclick=\"quickchart('df-493e21d5-051a-4665-b7fc-f66c8a411271')\"\n",
              "            title=\"Suggest charts\"\n",
              "            style=\"display:none;\">\n",
              "\n",
              "<svg xmlns=\"http://www.w3.org/2000/svg\" height=\"24px\"viewBox=\"0 0 24 24\"\n",
              "     width=\"24px\">\n",
              "    <g>\n",
              "        <path d=\"M19 3H5c-1.1 0-2 .9-2 2v14c0 1.1.9 2 2 2h14c1.1 0 2-.9 2-2V5c0-1.1-.9-2-2-2zM9 17H7v-7h2v7zm4 0h-2V7h2v10zm4 0h-2v-4h2v4z\"/>\n",
              "    </g>\n",
              "</svg>\n",
              "  </button>\n",
              "\n",
              "<style>\n",
              "  .colab-df-quickchart {\n",
              "      --bg-color: #E8F0FE;\n",
              "      --fill-color: #1967D2;\n",
              "      --hover-bg-color: #E2EBFA;\n",
              "      --hover-fill-color: #174EA6;\n",
              "      --disabled-fill-color: #AAA;\n",
              "      --disabled-bg-color: #DDD;\n",
              "  }\n",
              "\n",
              "  [theme=dark] .colab-df-quickchart {\n",
              "      --bg-color: #3B4455;\n",
              "      --fill-color: #D2E3FC;\n",
              "      --hover-bg-color: #434B5C;\n",
              "      --hover-fill-color: #FFFFFF;\n",
              "      --disabled-bg-color: #3B4455;\n",
              "      --disabled-fill-color: #666;\n",
              "  }\n",
              "\n",
              "  .colab-df-quickchart {\n",
              "    background-color: var(--bg-color);\n",
              "    border: none;\n",
              "    border-radius: 50%;\n",
              "    cursor: pointer;\n",
              "    display: none;\n",
              "    fill: var(--fill-color);\n",
              "    height: 32px;\n",
              "    padding: 0;\n",
              "    width: 32px;\n",
              "  }\n",
              "\n",
              "  .colab-df-quickchart:hover {\n",
              "    background-color: var(--hover-bg-color);\n",
              "    box-shadow: 0 1px 2px rgba(60, 64, 67, 0.3), 0 1px 3px 1px rgba(60, 64, 67, 0.15);\n",
              "    fill: var(--button-hover-fill-color);\n",
              "  }\n",
              "\n",
              "  .colab-df-quickchart-complete:disabled,\n",
              "  .colab-df-quickchart-complete:disabled:hover {\n",
              "    background-color: var(--disabled-bg-color);\n",
              "    fill: var(--disabled-fill-color);\n",
              "    box-shadow: none;\n",
              "  }\n",
              "\n",
              "  .colab-df-spinner {\n",
              "    border: 2px solid var(--fill-color);\n",
              "    border-color: transparent;\n",
              "    border-bottom-color: var(--fill-color);\n",
              "    animation:\n",
              "      spin 1s steps(1) infinite;\n",
              "  }\n",
              "\n",
              "  @keyframes spin {\n",
              "    0% {\n",
              "      border-color: transparent;\n",
              "      border-bottom-color: var(--fill-color);\n",
              "      border-left-color: var(--fill-color);\n",
              "    }\n",
              "    20% {\n",
              "      border-color: transparent;\n",
              "      border-left-color: var(--fill-color);\n",
              "      border-top-color: var(--fill-color);\n",
              "    }\n",
              "    30% {\n",
              "      border-color: transparent;\n",
              "      border-left-color: var(--fill-color);\n",
              "      border-top-color: var(--fill-color);\n",
              "      border-right-color: var(--fill-color);\n",
              "    }\n",
              "    40% {\n",
              "      border-color: transparent;\n",
              "      border-right-color: var(--fill-color);\n",
              "      border-top-color: var(--fill-color);\n",
              "    }\n",
              "    60% {\n",
              "      border-color: transparent;\n",
              "      border-right-color: var(--fill-color);\n",
              "    }\n",
              "    80% {\n",
              "      border-color: transparent;\n",
              "      border-right-color: var(--fill-color);\n",
              "      border-bottom-color: var(--fill-color);\n",
              "    }\n",
              "    90% {\n",
              "      border-color: transparent;\n",
              "      border-bottom-color: var(--fill-color);\n",
              "    }\n",
              "  }\n",
              "</style>\n",
              "\n",
              "  <script>\n",
              "    async function quickchart(key) {\n",
              "      const quickchartButtonEl =\n",
              "        document.querySelector('#' + key + ' button');\n",
              "      quickchartButtonEl.disabled = true;  // To prevent multiple clicks.\n",
              "      quickchartButtonEl.classList.add('colab-df-spinner');\n",
              "      try {\n",
              "        const charts = await google.colab.kernel.invokeFunction(\n",
              "            'suggestCharts', [key], {});\n",
              "      } catch (error) {\n",
              "        console.error('Error during call to suggestCharts:', error);\n",
              "      }\n",
              "      quickchartButtonEl.classList.remove('colab-df-spinner');\n",
              "      quickchartButtonEl.classList.add('colab-df-quickchart-complete');\n",
              "    }\n",
              "    (() => {\n",
              "      let quickchartButtonEl =\n",
              "        document.querySelector('#df-493e21d5-051a-4665-b7fc-f66c8a411271 button');\n",
              "      quickchartButtonEl.style.display =\n",
              "        google.colab.kernel.accessAllowed ? 'block' : 'none';\n",
              "    })();\n",
              "  </script>\n",
              "</div>\n",
              "\n",
              "  <div id=\"id_50420c86-0170-4212-b7e1-103b2da95d19\">\n",
              "    <style>\n",
              "      .colab-df-generate {\n",
              "        background-color: #E8F0FE;\n",
              "        border: none;\n",
              "        border-radius: 50%;\n",
              "        cursor: pointer;\n",
              "        display: none;\n",
              "        fill: #1967D2;\n",
              "        height: 32px;\n",
              "        padding: 0 0 0 0;\n",
              "        width: 32px;\n",
              "      }\n",
              "\n",
              "      .colab-df-generate:hover {\n",
              "        background-color: #E2EBFA;\n",
              "        box-shadow: 0px 1px 2px rgba(60, 64, 67, 0.3), 0px 1px 3px 1px rgba(60, 64, 67, 0.15);\n",
              "        fill: #174EA6;\n",
              "      }\n",
              "\n",
              "      [theme=dark] .colab-df-generate {\n",
              "        background-color: #3B4455;\n",
              "        fill: #D2E3FC;\n",
              "      }\n",
              "\n",
              "      [theme=dark] .colab-df-generate:hover {\n",
              "        background-color: #434B5C;\n",
              "        box-shadow: 0px 1px 3px 1px rgba(0, 0, 0, 0.15);\n",
              "        filter: drop-shadow(0px 1px 2px rgba(0, 0, 0, 0.3));\n",
              "        fill: #FFFFFF;\n",
              "      }\n",
              "    </style>\n",
              "    <button class=\"colab-df-generate\" onclick=\"generateWithVariable('model_mse')\"\n",
              "            title=\"Generate code using this dataframe.\"\n",
              "            style=\"display:none;\">\n",
              "\n",
              "  <svg xmlns=\"http://www.w3.org/2000/svg\" height=\"24px\"viewBox=\"0 0 24 24\"\n",
              "       width=\"24px\">\n",
              "    <path d=\"M7,19H8.4L18.45,9,17,7.55,7,17.6ZM5,21V16.75L18.45,3.32a2,2,0,0,1,2.83,0l1.4,1.43a1.91,1.91,0,0,1,.58,1.4,1.91,1.91,0,0,1-.58,1.4L9.25,21ZM18.45,9,17,7.55Zm-12,3A5.31,5.31,0,0,0,4.9,8.1,5.31,5.31,0,0,0,1,6.5,5.31,5.31,0,0,0,4.9,4.9,5.31,5.31,0,0,0,6.5,1,5.31,5.31,0,0,0,8.1,4.9,5.31,5.31,0,0,0,12,6.5,5.46,5.46,0,0,0,6.5,12Z\"/>\n",
              "  </svg>\n",
              "    </button>\n",
              "    <script>\n",
              "      (() => {\n",
              "      const buttonEl =\n",
              "        document.querySelector('#id_50420c86-0170-4212-b7e1-103b2da95d19 button.colab-df-generate');\n",
              "      buttonEl.style.display =\n",
              "        google.colab.kernel.accessAllowed ? 'block' : 'none';\n",
              "\n",
              "      buttonEl.onclick = () => {\n",
              "        google.colab.notebook.generateWithVariable('model_mse');\n",
              "      }\n",
              "      })();\n",
              "    </script>\n",
              "  </div>\n",
              "\n",
              "    </div>\n",
              "  </div>\n"
            ],
            "application/vnd.google.colaboratory.intrinsic+json": {
              "type": "dataframe",
              "variable_name": "model_mse",
              "summary": "{\n  \"name\": \"model_mse\",\n  \"rows\": 10,\n  \"fields\": [\n    {\n      \"column\": \"pcr_mse\",\n      \"properties\": {\n        \"dtype\": \"number\",\n        \"std\": 339.3560356204114,\n        \"min\": 2809.991320683293,\n        \"max\": 3595.2655868272486,\n        \"num_unique_values\": 10,\n        \"samples\": [\n          2836.8150213951194,\n          3523.0062544187845,\n          2891.293892452132\n        ],\n        \"semantic_type\": \"\",\n        \"description\": \"\"\n      }\n    },\n    {\n      \"column\": \"pfc_mse\",\n      \"properties\": {\n        \"dtype\": \"number\",\n        \"std\": 272.6500349164895,\n        \"min\": 2760.878902292405,\n        \"max\": 3433.9167239349213,\n        \"num_unique_values\": 10,\n        \"samples\": [\n          2836.970730448828,\n          3427.203312721099,\n          2838.835453457108\n        ],\n        \"semantic_type\": \"\",\n        \"description\": \"\"\n      }\n    }\n  ]\n}"
            }
          },
          "metadata": {},
          "execution_count": 48
        }
      ]
    },
    {
      "cell_type": "code",
      "source": [
        "model_r2 = pd.DataFrame({'pcr_r2': pcr_r2, 'pfc_r2': pfc_r2})"
      ],
      "metadata": {
        "id": "CZXfk4TSOJ07"
      },
      "execution_count": null,
      "outputs": []
    },
    {
      "cell_type": "code",
      "source": [
        "model_r2"
      ],
      "metadata": {
        "id": "PbeFdGOehQrz",
        "outputId": "548ce6df-c2a7-41be-f91c-007670181a7b",
        "colab": {
          "base_uri": "https://localhost:8080/",
          "height": 363
        }
      },
      "execution_count": null,
      "outputs": [
        {
          "output_type": "execute_result",
          "data": {
            "text/plain": [
              "     pcr_r2    pfc_r2\n",
              "0  0.334001  0.363890\n",
              "1  0.347387  0.365134\n",
              "2  0.357632  0.397835\n",
              "3  0.479468  0.488566\n",
              "4  0.479319  0.479519\n",
              "5  0.464407  0.474125\n",
              "6  0.479213  0.477251\n",
              "7  0.475354  0.475722\n",
              "8  0.474499  0.474470\n",
              "9  0.477290  0.477290"
            ],
            "text/html": [
              "\n",
              "  <div id=\"df-7d18d641-a7b5-45cf-acb1-5b407435eddd\" class=\"colab-df-container\">\n",
              "    <div>\n",
              "<style scoped>\n",
              "    .dataframe tbody tr th:only-of-type {\n",
              "        vertical-align: middle;\n",
              "    }\n",
              "\n",
              "    .dataframe tbody tr th {\n",
              "        vertical-align: top;\n",
              "    }\n",
              "\n",
              "    .dataframe thead th {\n",
              "        text-align: right;\n",
              "    }\n",
              "</style>\n",
              "<table border=\"1\" class=\"dataframe\">\n",
              "  <thead>\n",
              "    <tr style=\"text-align: right;\">\n",
              "      <th></th>\n",
              "      <th>pcr_r2</th>\n",
              "      <th>pfc_r2</th>\n",
              "    </tr>\n",
              "  </thead>\n",
              "  <tbody>\n",
              "    <tr>\n",
              "      <th>0</th>\n",
              "      <td>0.334001</td>\n",
              "      <td>0.363890</td>\n",
              "    </tr>\n",
              "    <tr>\n",
              "      <th>1</th>\n",
              "      <td>0.347387</td>\n",
              "      <td>0.365134</td>\n",
              "    </tr>\n",
              "    <tr>\n",
              "      <th>2</th>\n",
              "      <td>0.357632</td>\n",
              "      <td>0.397835</td>\n",
              "    </tr>\n",
              "    <tr>\n",
              "      <th>3</th>\n",
              "      <td>0.479468</td>\n",
              "      <td>0.488566</td>\n",
              "    </tr>\n",
              "    <tr>\n",
              "      <th>4</th>\n",
              "      <td>0.479319</td>\n",
              "      <td>0.479519</td>\n",
              "    </tr>\n",
              "    <tr>\n",
              "      <th>5</th>\n",
              "      <td>0.464407</td>\n",
              "      <td>0.474125</td>\n",
              "    </tr>\n",
              "    <tr>\n",
              "      <th>6</th>\n",
              "      <td>0.479213</td>\n",
              "      <td>0.477251</td>\n",
              "    </tr>\n",
              "    <tr>\n",
              "      <th>7</th>\n",
              "      <td>0.475354</td>\n",
              "      <td>0.475722</td>\n",
              "    </tr>\n",
              "    <tr>\n",
              "      <th>8</th>\n",
              "      <td>0.474499</td>\n",
              "      <td>0.474470</td>\n",
              "    </tr>\n",
              "    <tr>\n",
              "      <th>9</th>\n",
              "      <td>0.477290</td>\n",
              "      <td>0.477290</td>\n",
              "    </tr>\n",
              "  </tbody>\n",
              "</table>\n",
              "</div>\n",
              "    <div class=\"colab-df-buttons\">\n",
              "\n",
              "  <div class=\"colab-df-container\">\n",
              "    <button class=\"colab-df-convert\" onclick=\"convertToInteractive('df-7d18d641-a7b5-45cf-acb1-5b407435eddd')\"\n",
              "            title=\"Convert this dataframe to an interactive table.\"\n",
              "            style=\"display:none;\">\n",
              "\n",
              "  <svg xmlns=\"http://www.w3.org/2000/svg\" height=\"24px\" viewBox=\"0 -960 960 960\">\n",
              "    <path d=\"M120-120v-720h720v720H120Zm60-500h600v-160H180v160Zm220 220h160v-160H400v160Zm0 220h160v-160H400v160ZM180-400h160v-160H180v160Zm440 0h160v-160H620v160ZM180-180h160v-160H180v160Zm440 0h160v-160H620v160Z\"/>\n",
              "  </svg>\n",
              "    </button>\n",
              "\n",
              "  <style>\n",
              "    .colab-df-container {\n",
              "      display:flex;\n",
              "      gap: 12px;\n",
              "    }\n",
              "\n",
              "    .colab-df-convert {\n",
              "      background-color: #E8F0FE;\n",
              "      border: none;\n",
              "      border-radius: 50%;\n",
              "      cursor: pointer;\n",
              "      display: none;\n",
              "      fill: #1967D2;\n",
              "      height: 32px;\n",
              "      padding: 0 0 0 0;\n",
              "      width: 32px;\n",
              "    }\n",
              "\n",
              "    .colab-df-convert:hover {\n",
              "      background-color: #E2EBFA;\n",
              "      box-shadow: 0px 1px 2px rgba(60, 64, 67, 0.3), 0px 1px 3px 1px rgba(60, 64, 67, 0.15);\n",
              "      fill: #174EA6;\n",
              "    }\n",
              "\n",
              "    .colab-df-buttons div {\n",
              "      margin-bottom: 4px;\n",
              "    }\n",
              "\n",
              "    [theme=dark] .colab-df-convert {\n",
              "      background-color: #3B4455;\n",
              "      fill: #D2E3FC;\n",
              "    }\n",
              "\n",
              "    [theme=dark] .colab-df-convert:hover {\n",
              "      background-color: #434B5C;\n",
              "      box-shadow: 0px 1px 3px 1px rgba(0, 0, 0, 0.15);\n",
              "      filter: drop-shadow(0px 1px 2px rgba(0, 0, 0, 0.3));\n",
              "      fill: #FFFFFF;\n",
              "    }\n",
              "  </style>\n",
              "\n",
              "    <script>\n",
              "      const buttonEl =\n",
              "        document.querySelector('#df-7d18d641-a7b5-45cf-acb1-5b407435eddd button.colab-df-convert');\n",
              "      buttonEl.style.display =\n",
              "        google.colab.kernel.accessAllowed ? 'block' : 'none';\n",
              "\n",
              "      async function convertToInteractive(key) {\n",
              "        const element = document.querySelector('#df-7d18d641-a7b5-45cf-acb1-5b407435eddd');\n",
              "        const dataTable =\n",
              "          await google.colab.kernel.invokeFunction('convertToInteractive',\n",
              "                                                    [key], {});\n",
              "        if (!dataTable) return;\n",
              "\n",
              "        const docLinkHtml = 'Like what you see? Visit the ' +\n",
              "          '<a target=\"_blank\" href=https://colab.research.google.com/notebooks/data_table.ipynb>data table notebook</a>'\n",
              "          + ' to learn more about interactive tables.';\n",
              "        element.innerHTML = '';\n",
              "        dataTable['output_type'] = 'display_data';\n",
              "        await google.colab.output.renderOutput(dataTable, element);\n",
              "        const docLink = document.createElement('div');\n",
              "        docLink.innerHTML = docLinkHtml;\n",
              "        element.appendChild(docLink);\n",
              "      }\n",
              "    </script>\n",
              "  </div>\n",
              "\n",
              "\n",
              "<div id=\"df-09a8e56c-a413-438f-a266-67b47113916f\">\n",
              "  <button class=\"colab-df-quickchart\" onclick=\"quickchart('df-09a8e56c-a413-438f-a266-67b47113916f')\"\n",
              "            title=\"Suggest charts\"\n",
              "            style=\"display:none;\">\n",
              "\n",
              "<svg xmlns=\"http://www.w3.org/2000/svg\" height=\"24px\"viewBox=\"0 0 24 24\"\n",
              "     width=\"24px\">\n",
              "    <g>\n",
              "        <path d=\"M19 3H5c-1.1 0-2 .9-2 2v14c0 1.1.9 2 2 2h14c1.1 0 2-.9 2-2V5c0-1.1-.9-2-2-2zM9 17H7v-7h2v7zm4 0h-2V7h2v10zm4 0h-2v-4h2v4z\"/>\n",
              "    </g>\n",
              "</svg>\n",
              "  </button>\n",
              "\n",
              "<style>\n",
              "  .colab-df-quickchart {\n",
              "      --bg-color: #E8F0FE;\n",
              "      --fill-color: #1967D2;\n",
              "      --hover-bg-color: #E2EBFA;\n",
              "      --hover-fill-color: #174EA6;\n",
              "      --disabled-fill-color: #AAA;\n",
              "      --disabled-bg-color: #DDD;\n",
              "  }\n",
              "\n",
              "  [theme=dark] .colab-df-quickchart {\n",
              "      --bg-color: #3B4455;\n",
              "      --fill-color: #D2E3FC;\n",
              "      --hover-bg-color: #434B5C;\n",
              "      --hover-fill-color: #FFFFFF;\n",
              "      --disabled-bg-color: #3B4455;\n",
              "      --disabled-fill-color: #666;\n",
              "  }\n",
              "\n",
              "  .colab-df-quickchart {\n",
              "    background-color: var(--bg-color);\n",
              "    border: none;\n",
              "    border-radius: 50%;\n",
              "    cursor: pointer;\n",
              "    display: none;\n",
              "    fill: var(--fill-color);\n",
              "    height: 32px;\n",
              "    padding: 0;\n",
              "    width: 32px;\n",
              "  }\n",
              "\n",
              "  .colab-df-quickchart:hover {\n",
              "    background-color: var(--hover-bg-color);\n",
              "    box-shadow: 0 1px 2px rgba(60, 64, 67, 0.3), 0 1px 3px 1px rgba(60, 64, 67, 0.15);\n",
              "    fill: var(--button-hover-fill-color);\n",
              "  }\n",
              "\n",
              "  .colab-df-quickchart-complete:disabled,\n",
              "  .colab-df-quickchart-complete:disabled:hover {\n",
              "    background-color: var(--disabled-bg-color);\n",
              "    fill: var(--disabled-fill-color);\n",
              "    box-shadow: none;\n",
              "  }\n",
              "\n",
              "  .colab-df-spinner {\n",
              "    border: 2px solid var(--fill-color);\n",
              "    border-color: transparent;\n",
              "    border-bottom-color: var(--fill-color);\n",
              "    animation:\n",
              "      spin 1s steps(1) infinite;\n",
              "  }\n",
              "\n",
              "  @keyframes spin {\n",
              "    0% {\n",
              "      border-color: transparent;\n",
              "      border-bottom-color: var(--fill-color);\n",
              "      border-left-color: var(--fill-color);\n",
              "    }\n",
              "    20% {\n",
              "      border-color: transparent;\n",
              "      border-left-color: var(--fill-color);\n",
              "      border-top-color: var(--fill-color);\n",
              "    }\n",
              "    30% {\n",
              "      border-color: transparent;\n",
              "      border-left-color: var(--fill-color);\n",
              "      border-top-color: var(--fill-color);\n",
              "      border-right-color: var(--fill-color);\n",
              "    }\n",
              "    40% {\n",
              "      border-color: transparent;\n",
              "      border-right-color: var(--fill-color);\n",
              "      border-top-color: var(--fill-color);\n",
              "    }\n",
              "    60% {\n",
              "      border-color: transparent;\n",
              "      border-right-color: var(--fill-color);\n",
              "    }\n",
              "    80% {\n",
              "      border-color: transparent;\n",
              "      border-right-color: var(--fill-color);\n",
              "      border-bottom-color: var(--fill-color);\n",
              "    }\n",
              "    90% {\n",
              "      border-color: transparent;\n",
              "      border-bottom-color: var(--fill-color);\n",
              "    }\n",
              "  }\n",
              "</style>\n",
              "\n",
              "  <script>\n",
              "    async function quickchart(key) {\n",
              "      const quickchartButtonEl =\n",
              "        document.querySelector('#' + key + ' button');\n",
              "      quickchartButtonEl.disabled = true;  // To prevent multiple clicks.\n",
              "      quickchartButtonEl.classList.add('colab-df-spinner');\n",
              "      try {\n",
              "        const charts = await google.colab.kernel.invokeFunction(\n",
              "            'suggestCharts', [key], {});\n",
              "      } catch (error) {\n",
              "        console.error('Error during call to suggestCharts:', error);\n",
              "      }\n",
              "      quickchartButtonEl.classList.remove('colab-df-spinner');\n",
              "      quickchartButtonEl.classList.add('colab-df-quickchart-complete');\n",
              "    }\n",
              "    (() => {\n",
              "      let quickchartButtonEl =\n",
              "        document.querySelector('#df-09a8e56c-a413-438f-a266-67b47113916f button');\n",
              "      quickchartButtonEl.style.display =\n",
              "        google.colab.kernel.accessAllowed ? 'block' : 'none';\n",
              "    })();\n",
              "  </script>\n",
              "</div>\n",
              "\n",
              "  <div id=\"id_989d84a5-bb4b-49d5-b619-e49623945aae\">\n",
              "    <style>\n",
              "      .colab-df-generate {\n",
              "        background-color: #E8F0FE;\n",
              "        border: none;\n",
              "        border-radius: 50%;\n",
              "        cursor: pointer;\n",
              "        display: none;\n",
              "        fill: #1967D2;\n",
              "        height: 32px;\n",
              "        padding: 0 0 0 0;\n",
              "        width: 32px;\n",
              "      }\n",
              "\n",
              "      .colab-df-generate:hover {\n",
              "        background-color: #E2EBFA;\n",
              "        box-shadow: 0px 1px 2px rgba(60, 64, 67, 0.3), 0px 1px 3px 1px rgba(60, 64, 67, 0.15);\n",
              "        fill: #174EA6;\n",
              "      }\n",
              "\n",
              "      [theme=dark] .colab-df-generate {\n",
              "        background-color: #3B4455;\n",
              "        fill: #D2E3FC;\n",
              "      }\n",
              "\n",
              "      [theme=dark] .colab-df-generate:hover {\n",
              "        background-color: #434B5C;\n",
              "        box-shadow: 0px 1px 3px 1px rgba(0, 0, 0, 0.15);\n",
              "        filter: drop-shadow(0px 1px 2px rgba(0, 0, 0, 0.3));\n",
              "        fill: #FFFFFF;\n",
              "      }\n",
              "    </style>\n",
              "    <button class=\"colab-df-generate\" onclick=\"generateWithVariable('model_r2')\"\n",
              "            title=\"Generate code using this dataframe.\"\n",
              "            style=\"display:none;\">\n",
              "\n",
              "  <svg xmlns=\"http://www.w3.org/2000/svg\" height=\"24px\"viewBox=\"0 0 24 24\"\n",
              "       width=\"24px\">\n",
              "    <path d=\"M7,19H8.4L18.45,9,17,7.55,7,17.6ZM5,21V16.75L18.45,3.32a2,2,0,0,1,2.83,0l1.4,1.43a1.91,1.91,0,0,1,.58,1.4,1.91,1.91,0,0,1-.58,1.4L9.25,21ZM18.45,9,17,7.55Zm-12,3A5.31,5.31,0,0,0,4.9,8.1,5.31,5.31,0,0,0,1,6.5,5.31,5.31,0,0,0,4.9,4.9,5.31,5.31,0,0,0,6.5,1,5.31,5.31,0,0,0,8.1,4.9,5.31,5.31,0,0,0,12,6.5,5.46,5.46,0,0,0,6.5,12Z\"/>\n",
              "  </svg>\n",
              "    </button>\n",
              "    <script>\n",
              "      (() => {\n",
              "      const buttonEl =\n",
              "        document.querySelector('#id_989d84a5-bb4b-49d5-b619-e49623945aae button.colab-df-generate');\n",
              "      buttonEl.style.display =\n",
              "        google.colab.kernel.accessAllowed ? 'block' : 'none';\n",
              "\n",
              "      buttonEl.onclick = () => {\n",
              "        google.colab.notebook.generateWithVariable('model_r2');\n",
              "      }\n",
              "      })();\n",
              "    </script>\n",
              "  </div>\n",
              "\n",
              "    </div>\n",
              "  </div>\n"
            ],
            "application/vnd.google.colaboratory.intrinsic+json": {
              "type": "dataframe",
              "variable_name": "model_r2",
              "summary": "{\n  \"name\": \"model_r2\",\n  \"rows\": 10,\n  \"fields\": [\n    {\n      \"column\": \"pcr_r2\",\n      \"properties\": {\n        \"dtype\": \"number\",\n        \"std\": 0.06286341027393667,\n        \"min\": 0.33400136757463605,\n        \"max\": 0.4794681139665864,\n        \"num_unique_values\": 10,\n        \"samples\": [\n          0.4744992048389497,\n          0.34738692015810346,\n          0.46440736245796255\n        ],\n        \"semantic_type\": \"\",\n        \"description\": \"\"\n      }\n    },\n    {\n      \"column\": \"pfc_r2\",\n      \"properties\": {\n        \"dtype\": \"number\",\n        \"std\": 0.050506574827300754,\n        \"min\": 0.36389015309952055,\n        \"max\": 0.4885658572886029,\n        \"num_unique_values\": 10,\n        \"samples\": [\n          0.4744703607899299,\n          0.36513376711893997,\n          0.4741249334651957\n        ],\n        \"semantic_type\": \"\",\n        \"description\": \"\"\n      }\n    }\n  ]\n}"
            }
          },
          "metadata": {},
          "execution_count": 49
        }
      ]
    },
    {
      "cell_type": "code",
      "source": [
        "fig, axes = plt.subplots(1, 2, figsize=(12, 5))\n",
        "sns.lineplot(data=model_mse, ax = axes[0])\n",
        "axes[0].set_title('Mean Squared Error')\n",
        "axes[0].set_xlabel('Number of Components')\n",
        "axes[0].set_ylabel('MSE')\n",
        "\n",
        "sns.lineplot(data=model_r2, ax = axes[1])\n",
        "axes[1].set_title('R Squared')\n",
        "axes[1].set_xlabel('Number of Components')\n",
        "axes[1].set_ylabel('R Squared')\n",
        "\n",
        "plt.show()"
      ],
      "metadata": {
        "id": "cs6NAxkrPWW4",
        "colab": {
          "base_uri": "https://localhost:8080/",
          "height": 487
        },
        "outputId": "f6839231-e050-44e2-a8b9-4695e86c12c9"
      },
      "execution_count": null,
      "outputs": [
        {
          "output_type": "display_data",
          "data": {
            "text/plain": [
              "<Figure size 1200x500 with 2 Axes>"
            ],
            "image/png": "[encoded data removed]"
          },
          "metadata": {}
        }
      ]
    },
    {
      "cell_type": "code",
      "source": [],
      "metadata": {
        "id": "zxcwnMfRbGrC"
      },
      "execution_count": null,
      "outputs": []
    }
  ]
}